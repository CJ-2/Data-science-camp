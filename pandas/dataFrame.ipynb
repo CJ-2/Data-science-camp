{
 "cells": [
  {
   "metadata": {
    "trusted": true
   },
   "cell_type": "code",
   "source": "import pandas as pd",
   "execution_count": 1,
   "outputs": []
  },
  {
   "metadata": {
    "trusted": true
   },
   "cell_type": "code",
   "source": "#creating a data frame\ndata = {\n    'StudentName':['ali','aziz','rose','nora'],\n    'StudentGrade':['A+','A','B','B+']\n}\nStudents = pd.DataFrame(data)\nStudents",
   "execution_count": 2,
   "outputs": [
    {
     "output_type": "execute_result",
     "execution_count": 2,
     "data": {
      "text/plain": "  StudentName StudentGrade\n0         ali           A+\n1        aziz            A\n2        rose            B\n3        nora           B+",
      "text/html": "<div>\n<style scoped>\n    .dataframe tbody tr th:only-of-type {\n        vertical-align: middle;\n    }\n\n    .dataframe tbody tr th {\n        vertical-align: top;\n    }\n\n    .dataframe thead th {\n        text-align: right;\n    }\n</style>\n<table border=\"1\" class=\"dataframe\">\n  <thead>\n    <tr style=\"text-align: right;\">\n      <th></th>\n      <th>StudentName</th>\n      <th>StudentGrade</th>\n    </tr>\n  </thead>\n  <tbody>\n    <tr>\n      <th>0</th>\n      <td>ali</td>\n      <td>A+</td>\n    </tr>\n    <tr>\n      <th>1</th>\n      <td>aziz</td>\n      <td>A</td>\n    </tr>\n    <tr>\n      <th>2</th>\n      <td>rose</td>\n      <td>B</td>\n    </tr>\n    <tr>\n      <th>3</th>\n      <td>nora</td>\n      <td>B+</td>\n    </tr>\n  </tbody>\n</table>\n</div>"
     },
     "metadata": {}
    }
   ]
  },
  {
   "metadata": {
    "trusted": true
   },
   "cell_type": "code",
   "source": "#reading from a csv file\nStudents = pd.read_csv('students.csv')\nStudents",
   "execution_count": 3,
   "outputs": [
    {
     "output_type": "execute_result",
     "execution_count": 3,
     "data": {
      "text/plain": "      Name Major  Level   GPA\n0     Reem    CS      5  4.40\n1     Nada    IT      9  4.80\n2     Sara    IS      3  3.45\n3     Majd    IT      4  4.71\n4  Alanoud    CS      9  4.88\n5     Amal    IT      4  4.99",
      "text/html": "<div>\n<style scoped>\n    .dataframe tbody tr th:only-of-type {\n        vertical-align: middle;\n    }\n\n    .dataframe tbody tr th {\n        vertical-align: top;\n    }\n\n    .dataframe thead th {\n        text-align: right;\n    }\n</style>\n<table border=\"1\" class=\"dataframe\">\n  <thead>\n    <tr style=\"text-align: right;\">\n      <th></th>\n      <th>Name</th>\n      <th>Major</th>\n      <th>Level</th>\n      <th>GPA</th>\n    </tr>\n  </thead>\n  <tbody>\n    <tr>\n      <th>0</th>\n      <td>Reem</td>\n      <td>CS</td>\n      <td>5</td>\n      <td>4.40</td>\n    </tr>\n    <tr>\n      <th>1</th>\n      <td>Nada</td>\n      <td>IT</td>\n      <td>9</td>\n      <td>4.80</td>\n    </tr>\n    <tr>\n      <th>2</th>\n      <td>Sara</td>\n      <td>IS</td>\n      <td>3</td>\n      <td>3.45</td>\n    </tr>\n    <tr>\n      <th>3</th>\n      <td>Majd</td>\n      <td>IT</td>\n      <td>4</td>\n      <td>4.71</td>\n    </tr>\n    <tr>\n      <th>4</th>\n      <td>Alanoud</td>\n      <td>CS</td>\n      <td>9</td>\n      <td>4.88</td>\n    </tr>\n    <tr>\n      <th>5</th>\n      <td>Amal</td>\n      <td>IT</td>\n      <td>4</td>\n      <td>4.99</td>\n    </tr>\n  </tbody>\n</table>\n</div>"
     },
     "metadata": {}
    }
   ]
  },
  {
   "metadata": {
    "trusted": true
   },
   "cell_type": "code",
   "source": "#Access data using head() and tail()\nStudents.head()#shows the first five rows",
   "execution_count": 4,
   "outputs": [
    {
     "output_type": "execute_result",
     "execution_count": 4,
     "data": {
      "text/plain": "      Name Major  Level   GPA\n0     Reem    CS      5  4.40\n1     Nada    IT      9  4.80\n2     Sara    IS      3  3.45\n3     Majd    IT      4  4.71\n4  Alanoud    CS      9  4.88",
      "text/html": "<div>\n<style scoped>\n    .dataframe tbody tr th:only-of-type {\n        vertical-align: middle;\n    }\n\n    .dataframe tbody tr th {\n        vertical-align: top;\n    }\n\n    .dataframe thead th {\n        text-align: right;\n    }\n</style>\n<table border=\"1\" class=\"dataframe\">\n  <thead>\n    <tr style=\"text-align: right;\">\n      <th></th>\n      <th>Name</th>\n      <th>Major</th>\n      <th>Level</th>\n      <th>GPA</th>\n    </tr>\n  </thead>\n  <tbody>\n    <tr>\n      <th>0</th>\n      <td>Reem</td>\n      <td>CS</td>\n      <td>5</td>\n      <td>4.40</td>\n    </tr>\n    <tr>\n      <th>1</th>\n      <td>Nada</td>\n      <td>IT</td>\n      <td>9</td>\n      <td>4.80</td>\n    </tr>\n    <tr>\n      <th>2</th>\n      <td>Sara</td>\n      <td>IS</td>\n      <td>3</td>\n      <td>3.45</td>\n    </tr>\n    <tr>\n      <th>3</th>\n      <td>Majd</td>\n      <td>IT</td>\n      <td>4</td>\n      <td>4.71</td>\n    </tr>\n    <tr>\n      <th>4</th>\n      <td>Alanoud</td>\n      <td>CS</td>\n      <td>9</td>\n      <td>4.88</td>\n    </tr>\n  </tbody>\n</table>\n</div>"
     },
     "metadata": {}
    }
   ]
  },
  {
   "metadata": {
    "trusted": true
   },
   "cell_type": "code",
   "source": "Students.tail()##shows the last five rows",
   "execution_count": 6,
   "outputs": [
    {
     "output_type": "execute_result",
     "execution_count": 6,
     "data": {
      "text/plain": "      Name Major  Level   GPA\n1     Nada    IT      9  4.80\n2     Sara    IS      3  3.45\n3     Majd    IT      4  4.71\n4  Alanoud    CS      9  4.88\n5     Amal    IT      4  4.99",
      "text/html": "<div>\n<style scoped>\n    .dataframe tbody tr th:only-of-type {\n        vertical-align: middle;\n    }\n\n    .dataframe tbody tr th {\n        vertical-align: top;\n    }\n\n    .dataframe thead th {\n        text-align: right;\n    }\n</style>\n<table border=\"1\" class=\"dataframe\">\n  <thead>\n    <tr style=\"text-align: right;\">\n      <th></th>\n      <th>Name</th>\n      <th>Major</th>\n      <th>Level</th>\n      <th>GPA</th>\n    </tr>\n  </thead>\n  <tbody>\n    <tr>\n      <th>1</th>\n      <td>Nada</td>\n      <td>IT</td>\n      <td>9</td>\n      <td>4.80</td>\n    </tr>\n    <tr>\n      <th>2</th>\n      <td>Sara</td>\n      <td>IS</td>\n      <td>3</td>\n      <td>3.45</td>\n    </tr>\n    <tr>\n      <th>3</th>\n      <td>Majd</td>\n      <td>IT</td>\n      <td>4</td>\n      <td>4.71</td>\n    </tr>\n    <tr>\n      <th>4</th>\n      <td>Alanoud</td>\n      <td>CS</td>\n      <td>9</td>\n      <td>4.88</td>\n    </tr>\n    <tr>\n      <th>5</th>\n      <td>Amal</td>\n      <td>IT</td>\n      <td>4</td>\n      <td>4.99</td>\n    </tr>\n  </tbody>\n</table>\n</div>"
     },
     "metadata": {}
    }
   ]
  },
  {
   "metadata": {
    "trusted": true
   },
   "cell_type": "code",
   "source": "#we can pass a parameter in head() and tail()\nStudents.head(3)#(number of rows)",
   "execution_count": 7,
   "outputs": [
    {
     "output_type": "execute_result",
     "execution_count": 7,
     "data": {
      "text/plain": "   Name Major  Level   GPA\n0  Reem    CS      5  4.40\n1  Nada    IT      9  4.80\n2  Sara    IS      3  3.45",
      "text/html": "<div>\n<style scoped>\n    .dataframe tbody tr th:only-of-type {\n        vertical-align: middle;\n    }\n\n    .dataframe tbody tr th {\n        vertical-align: top;\n    }\n\n    .dataframe thead th {\n        text-align: right;\n    }\n</style>\n<table border=\"1\" class=\"dataframe\">\n  <thead>\n    <tr style=\"text-align: right;\">\n      <th></th>\n      <th>Name</th>\n      <th>Major</th>\n      <th>Level</th>\n      <th>GPA</th>\n    </tr>\n  </thead>\n  <tbody>\n    <tr>\n      <th>0</th>\n      <td>Reem</td>\n      <td>CS</td>\n      <td>5</td>\n      <td>4.40</td>\n    </tr>\n    <tr>\n      <th>1</th>\n      <td>Nada</td>\n      <td>IT</td>\n      <td>9</td>\n      <td>4.80</td>\n    </tr>\n    <tr>\n      <th>2</th>\n      <td>Sara</td>\n      <td>IS</td>\n      <td>3</td>\n      <td>3.45</td>\n    </tr>\n  </tbody>\n</table>\n</div>"
     },
     "metadata": {}
    }
   ]
  },
  {
   "metadata": {
    "trusted": true
   },
   "cell_type": "code",
   "source": "#the groupby() function\nStudents[['Major','GPA']]",
   "execution_count": 8,
   "outputs": [
    {
     "output_type": "execute_result",
     "execution_count": 8,
     "data": {
      "text/plain": "  Major   GPA\n0    CS  4.40\n1    IT  4.80\n2    IS  3.45\n3    IT  4.71\n4    CS  4.88\n5    IT  4.99",
      "text/html": "<div>\n<style scoped>\n    .dataframe tbody tr th:only-of-type {\n        vertical-align: middle;\n    }\n\n    .dataframe tbody tr th {\n        vertical-align: top;\n    }\n\n    .dataframe thead th {\n        text-align: right;\n    }\n</style>\n<table border=\"1\" class=\"dataframe\">\n  <thead>\n    <tr style=\"text-align: right;\">\n      <th></th>\n      <th>Major</th>\n      <th>GPA</th>\n    </tr>\n  </thead>\n  <tbody>\n    <tr>\n      <th>0</th>\n      <td>CS</td>\n      <td>4.40</td>\n    </tr>\n    <tr>\n      <th>1</th>\n      <td>IT</td>\n      <td>4.80</td>\n    </tr>\n    <tr>\n      <th>2</th>\n      <td>IS</td>\n      <td>3.45</td>\n    </tr>\n    <tr>\n      <th>3</th>\n      <td>IT</td>\n      <td>4.71</td>\n    </tr>\n    <tr>\n      <th>4</th>\n      <td>CS</td>\n      <td>4.88</td>\n    </tr>\n    <tr>\n      <th>5</th>\n      <td>IT</td>\n      <td>4.99</td>\n    </tr>\n  </tbody>\n</table>\n</div>"
     },
     "metadata": {}
    }
   ]
  },
  {
   "metadata": {
    "trusted": true
   },
   "cell_type": "code",
   "source": "#but we want to group them\nStudents[['Major','GPA']].groupby('Major').mean()#(the Column you want to group it).after any funcation you want to  execute ",
   "execution_count": 12,
   "outputs": [
    {
     "output_type": "execute_result",
     "execution_count": 12,
     "data": {
      "text/plain": "            GPA\nMajor          \nCS     4.640000\nIS     3.450000\nIT     4.833333",
      "text/html": "<div>\n<style scoped>\n    .dataframe tbody tr th:only-of-type {\n        vertical-align: middle;\n    }\n\n    .dataframe tbody tr th {\n        vertical-align: top;\n    }\n\n    .dataframe thead th {\n        text-align: right;\n    }\n</style>\n<table border=\"1\" class=\"dataframe\">\n  <thead>\n    <tr style=\"text-align: right;\">\n      <th></th>\n      <th>GPA</th>\n    </tr>\n    <tr>\n      <th>Major</th>\n      <th></th>\n    </tr>\n  </thead>\n  <tbody>\n    <tr>\n      <th>CS</th>\n      <td>4.640000</td>\n    </tr>\n    <tr>\n      <th>IS</th>\n      <td>3.450000</td>\n    </tr>\n    <tr>\n      <th>IT</th>\n      <td>4.833333</td>\n    </tr>\n  </tbody>\n</table>\n</div>"
     },
     "metadata": {}
    }
   ]
  },
  {
   "metadata": {
    "trusted": true
   },
   "cell_type": "code",
   "source": "#another example\nStudents[['Level','GPA']].groupby('Level').mean()#(the Column you want to group it).after any funcation you want to  execute ",
   "execution_count": 13,
   "outputs": [
    {
     "output_type": "execute_result",
     "execution_count": 13,
     "data": {
      "text/plain": "        GPA\nLevel      \n3      3.45\n4      4.85\n5      4.40\n9      4.84",
      "text/html": "<div>\n<style scoped>\n    .dataframe tbody tr th:only-of-type {\n        vertical-align: middle;\n    }\n\n    .dataframe tbody tr th {\n        vertical-align: top;\n    }\n\n    .dataframe thead th {\n        text-align: right;\n    }\n</style>\n<table border=\"1\" class=\"dataframe\">\n  <thead>\n    <tr style=\"text-align: right;\">\n      <th></th>\n      <th>GPA</th>\n    </tr>\n    <tr>\n      <th>Level</th>\n      <th></th>\n    </tr>\n  </thead>\n  <tbody>\n    <tr>\n      <th>3</th>\n      <td>3.45</td>\n    </tr>\n    <tr>\n      <th>4</th>\n      <td>4.85</td>\n    </tr>\n    <tr>\n      <th>5</th>\n      <td>4.40</td>\n    </tr>\n    <tr>\n      <th>9</th>\n      <td>4.84</td>\n    </tr>\n  </tbody>\n</table>\n</div>"
     },
     "metadata": {}
    }
   ]
  },
  {
   "metadata": {
    "trusted": true
   },
   "cell_type": "code",
   "source": "#the describe() function\nStudents.describe()",
   "execution_count": 14,
   "outputs": [
    {
     "output_type": "execute_result",
     "execution_count": 14,
     "data": {
      "text/plain": "          Level       GPA\ncount  6.000000  6.000000\nmean   5.666667  4.538333\nstd    2.658320  0.569611\nmin    3.000000  3.450000\n25%    4.000000  4.477500\n50%    4.500000  4.755000\n75%    8.000000  4.860000\nmax    9.000000  4.990000",
      "text/html": "<div>\n<style scoped>\n    .dataframe tbody tr th:only-of-type {\n        vertical-align: middle;\n    }\n\n    .dataframe tbody tr th {\n        vertical-align: top;\n    }\n\n    .dataframe thead th {\n        text-align: right;\n    }\n</style>\n<table border=\"1\" class=\"dataframe\">\n  <thead>\n    <tr style=\"text-align: right;\">\n      <th></th>\n      <th>Level</th>\n      <th>GPA</th>\n    </tr>\n  </thead>\n  <tbody>\n    <tr>\n      <th>count</th>\n      <td>6.000000</td>\n      <td>6.000000</td>\n    </tr>\n    <tr>\n      <th>mean</th>\n      <td>5.666667</td>\n      <td>4.538333</td>\n    </tr>\n    <tr>\n      <th>std</th>\n      <td>2.658320</td>\n      <td>0.569611</td>\n    </tr>\n    <tr>\n      <th>min</th>\n      <td>3.000000</td>\n      <td>3.450000</td>\n    </tr>\n    <tr>\n      <th>25%</th>\n      <td>4.000000</td>\n      <td>4.477500</td>\n    </tr>\n    <tr>\n      <th>50%</th>\n      <td>4.500000</td>\n      <td>4.755000</td>\n    </tr>\n    <tr>\n      <th>75%</th>\n      <td>8.000000</td>\n      <td>4.860000</td>\n    </tr>\n    <tr>\n      <th>max</th>\n      <td>9.000000</td>\n      <td>4.990000</td>\n    </tr>\n  </tbody>\n</table>\n</div>"
     },
     "metadata": {}
    }
   ]
  },
  {
   "metadata": {
    "trusted": true
   },
   "cell_type": "code",
   "source": "#you can specify\nStudents.describe(include=object)",
   "execution_count": 18,
   "outputs": [
    {
     "output_type": "execute_result",
     "execution_count": 18,
     "data": {
      "text/plain": "        Name Major\ncount      6     6\nunique     6     3\ntop     Reem    IT\nfreq       1     3",
      "text/html": "<div>\n<style scoped>\n    .dataframe tbody tr th:only-of-type {\n        vertical-align: middle;\n    }\n\n    .dataframe tbody tr th {\n        vertical-align: top;\n    }\n\n    .dataframe thead th {\n        text-align: right;\n    }\n</style>\n<table border=\"1\" class=\"dataframe\">\n  <thead>\n    <tr style=\"text-align: right;\">\n      <th></th>\n      <th>Name</th>\n      <th>Major</th>\n    </tr>\n  </thead>\n  <tbody>\n    <tr>\n      <th>count</th>\n      <td>6</td>\n      <td>6</td>\n    </tr>\n    <tr>\n      <th>unique</th>\n      <td>6</td>\n      <td>3</td>\n    </tr>\n    <tr>\n      <th>top</th>\n      <td>Reem</td>\n      <td>IT</td>\n    </tr>\n    <tr>\n      <th>freq</th>\n      <td>1</td>\n      <td>3</td>\n    </tr>\n  </tbody>\n</table>\n</div>"
     },
     "metadata": {}
    }
   ]
  }
 ],
 "metadata": {
  "kernelspec": {
   "name": "python3",
   "display_name": "Python 3",
   "language": "python"
  },
  "language_info": {
   "name": "python",
   "version": "3.10.4",
   "mimetype": "text/x-python",
   "codemirror_mode": {
    "name": "ipython",
    "version": 3
   },
   "pygments_lexer": "ipython3",
   "nbconvert_exporter": "python",
   "file_extension": ".py"
  }
 },
 "nbformat": 4,
 "nbformat_minor": 2
}