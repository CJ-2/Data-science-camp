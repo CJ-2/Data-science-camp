{
 "cells": [
  {
   "metadata": {
    "trusted": true
   },
   "cell_type": "code",
   "source": "import pandas as pd",
   "execution_count": 1,
   "outputs": []
  },
  {
   "metadata": {
    "trusted": true
   },
   "cell_type": "code",
   "source": "students = pd.read_csv('students.csv')",
   "execution_count": 2,
   "outputs": []
  },
  {
   "metadata": {
    "trusted": true
   },
   "cell_type": "code",
   "source": "students",
   "execution_count": 3,
   "outputs": [
    {
     "output_type": "execute_result",
     "execution_count": 3,
     "data": {
      "text/plain": "      Name Major  Level   GPA\n0     Reem    CS    5.0  4.40\n1     Nada    IT    9.0  4.80\n2     Sara    IS    3.0  3.45\n3     Majd    IT    4.0  4.71\n4  Alanoud    CS    9.0  4.88\n5     Amal    IT    4.0  4.99\n6     Aziz   NaN    NaN   NaN",
      "text/html": "<div>\n<style scoped>\n    .dataframe tbody tr th:only-of-type {\n        vertical-align: middle;\n    }\n\n    .dataframe tbody tr th {\n        vertical-align: top;\n    }\n\n    .dataframe thead th {\n        text-align: right;\n    }\n</style>\n<table border=\"1\" class=\"dataframe\">\n  <thead>\n    <tr style=\"text-align: right;\">\n      <th></th>\n      <th>Name</th>\n      <th>Major</th>\n      <th>Level</th>\n      <th>GPA</th>\n    </tr>\n  </thead>\n  <tbody>\n    <tr>\n      <th>0</th>\n      <td>Reem</td>\n      <td>CS</td>\n      <td>5.0</td>\n      <td>4.40</td>\n    </tr>\n    <tr>\n      <th>1</th>\n      <td>Nada</td>\n      <td>IT</td>\n      <td>9.0</td>\n      <td>4.80</td>\n    </tr>\n    <tr>\n      <th>2</th>\n      <td>Sara</td>\n      <td>IS</td>\n      <td>3.0</td>\n      <td>3.45</td>\n    </tr>\n    <tr>\n      <th>3</th>\n      <td>Majd</td>\n      <td>IT</td>\n      <td>4.0</td>\n      <td>4.71</td>\n    </tr>\n    <tr>\n      <th>4</th>\n      <td>Alanoud</td>\n      <td>CS</td>\n      <td>9.0</td>\n      <td>4.88</td>\n    </tr>\n    <tr>\n      <th>5</th>\n      <td>Amal</td>\n      <td>IT</td>\n      <td>4.0</td>\n      <td>4.99</td>\n    </tr>\n    <tr>\n      <th>6</th>\n      <td>Aziz</td>\n      <td>NaN</td>\n      <td>NaN</td>\n      <td>NaN</td>\n    </tr>\n  </tbody>\n</table>\n</div>"
     },
     "metadata": {}
    }
   ]
  },
  {
   "metadata": {
    "trusted": true
   },
   "cell_type": "code",
   "source": "#aggregation functions\nstudents['Level'].max()",
   "execution_count": 4,
   "outputs": [
    {
     "output_type": "execute_result",
     "execution_count": 4,
     "data": {
      "text/plain": "9.0"
     },
     "metadata": {}
    }
   ]
  },
  {
   "metadata": {
    "trusted": true
   },
   "cell_type": "code",
   "source": "students['Level'].min()",
   "execution_count": 5,
   "outputs": [
    {
     "output_type": "execute_result",
     "execution_count": 5,
     "data": {
      "text/plain": "3.0"
     },
     "metadata": {}
    }
   ]
  },
  {
   "metadata": {
    "trusted": true
   },
   "cell_type": "code",
   "source": "students['GPA'].sum()",
   "execution_count": 6,
   "outputs": [
    {
     "output_type": "execute_result",
     "execution_count": 6,
     "data": {
      "text/plain": "27.229999999999997"
     },
     "metadata": {}
    }
   ]
  },
  {
   "metadata": {
    "trusted": true
   },
   "cell_type": "code",
   "source": "#the apply() Function\ndef gpaBouns(gpa):\n    gpa = gpa+0.01\n    return gpa",
   "execution_count": 7,
   "outputs": []
  },
  {
   "metadata": {
    "trusted": true
   },
   "cell_type": "code",
   "source": "students['GPA'].apply(gpaBouns)#(function you want)",
   "execution_count": 8,
   "outputs": [
    {
     "output_type": "execute_result",
     "execution_count": 8,
     "data": {
      "text/plain": "0    4.41\n1    4.81\n2    3.46\n3    4.72\n4    4.89\n5    5.00\n6     NaN\nName: GPA, dtype: float64"
     },
     "metadata": {}
    }
   ]
  },
  {
   "metadata": {
    "trusted": true
   },
   "cell_type": "code",
   "source": "students['GPA'] = students['GPA'].apply(gpaBouns)#(function you want)",
   "execution_count": 9,
   "outputs": []
  },
  {
   "metadata": {
    "trusted": true
   },
   "cell_type": "code",
   "source": "students",
   "execution_count": 10,
   "outputs": [
    {
     "output_type": "execute_result",
     "execution_count": 10,
     "data": {
      "text/plain": "      Name Major  Level   GPA\n0     Reem    CS    5.0  4.41\n1     Nada    IT    9.0  4.81\n2     Sara    IS    3.0  3.46\n3     Majd    IT    4.0  4.72\n4  Alanoud    CS    9.0  4.89\n5     Amal    IT    4.0  5.00\n6     Aziz   NaN    NaN   NaN",
      "text/html": "<div>\n<style scoped>\n    .dataframe tbody tr th:only-of-type {\n        vertical-align: middle;\n    }\n\n    .dataframe tbody tr th {\n        vertical-align: top;\n    }\n\n    .dataframe thead th {\n        text-align: right;\n    }\n</style>\n<table border=\"1\" class=\"dataframe\">\n  <thead>\n    <tr style=\"text-align: right;\">\n      <th></th>\n      <th>Name</th>\n      <th>Major</th>\n      <th>Level</th>\n      <th>GPA</th>\n    </tr>\n  </thead>\n  <tbody>\n    <tr>\n      <th>0</th>\n      <td>Reem</td>\n      <td>CS</td>\n      <td>5.0</td>\n      <td>4.41</td>\n    </tr>\n    <tr>\n      <th>1</th>\n      <td>Nada</td>\n      <td>IT</td>\n      <td>9.0</td>\n      <td>4.81</td>\n    </tr>\n    <tr>\n      <th>2</th>\n      <td>Sara</td>\n      <td>IS</td>\n      <td>3.0</td>\n      <td>3.46</td>\n    </tr>\n    <tr>\n      <th>3</th>\n      <td>Majd</td>\n      <td>IT</td>\n      <td>4.0</td>\n      <td>4.72</td>\n    </tr>\n    <tr>\n      <th>4</th>\n      <td>Alanoud</td>\n      <td>CS</td>\n      <td>9.0</td>\n      <td>4.89</td>\n    </tr>\n    <tr>\n      <th>5</th>\n      <td>Amal</td>\n      <td>IT</td>\n      <td>4.0</td>\n      <td>5.00</td>\n    </tr>\n    <tr>\n      <th>6</th>\n      <td>Aziz</td>\n      <td>NaN</td>\n      <td>NaN</td>\n      <td>NaN</td>\n    </tr>\n  </tbody>\n</table>\n</div>"
     },
     "metadata": {}
    }
   ]
  },
  {
   "metadata": {
    "trusted": true
   },
   "cell_type": "code",
   "source": "#removing data\nstudents.drop('Name',axis=1)#(column,axis)",
   "execution_count": 11,
   "outputs": [
    {
     "output_type": "execute_result",
     "execution_count": 11,
     "data": {
      "text/plain": "  Major  Level   GPA\n0    CS    5.0  4.41\n1    IT    9.0  4.81\n2    IS    3.0  3.46\n3    IT    4.0  4.72\n4    CS    9.0  4.89\n5    IT    4.0  5.00\n6   NaN    NaN   NaN",
      "text/html": "<div>\n<style scoped>\n    .dataframe tbody tr th:only-of-type {\n        vertical-align: middle;\n    }\n\n    .dataframe tbody tr th {\n        vertical-align: top;\n    }\n\n    .dataframe thead th {\n        text-align: right;\n    }\n</style>\n<table border=\"1\" class=\"dataframe\">\n  <thead>\n    <tr style=\"text-align: right;\">\n      <th></th>\n      <th>Major</th>\n      <th>Level</th>\n      <th>GPA</th>\n    </tr>\n  </thead>\n  <tbody>\n    <tr>\n      <th>0</th>\n      <td>CS</td>\n      <td>5.0</td>\n      <td>4.41</td>\n    </tr>\n    <tr>\n      <th>1</th>\n      <td>IT</td>\n      <td>9.0</td>\n      <td>4.81</td>\n    </tr>\n    <tr>\n      <th>2</th>\n      <td>IS</td>\n      <td>3.0</td>\n      <td>3.46</td>\n    </tr>\n    <tr>\n      <th>3</th>\n      <td>IT</td>\n      <td>4.0</td>\n      <td>4.72</td>\n    </tr>\n    <tr>\n      <th>4</th>\n      <td>CS</td>\n      <td>9.0</td>\n      <td>4.89</td>\n    </tr>\n    <tr>\n      <th>5</th>\n      <td>IT</td>\n      <td>4.0</td>\n      <td>5.00</td>\n    </tr>\n    <tr>\n      <th>6</th>\n      <td>NaN</td>\n      <td>NaN</td>\n      <td>NaN</td>\n    </tr>\n  </tbody>\n</table>\n</div>"
     },
     "metadata": {}
    }
   ]
  },
  {
   "metadata": {
    "trusted": true
   },
   "cell_type": "code",
   "source": "students.drop('Name',axis=1,inplace=True)#(column,axis=1=y)",
   "execution_count": 12,
   "outputs": []
  },
  {
   "metadata": {
    "trusted": true
   },
   "cell_type": "code",
   "source": "students",
   "execution_count": 13,
   "outputs": [
    {
     "output_type": "execute_result",
     "execution_count": 13,
     "data": {
      "text/plain": "  Major  Level   GPA\n0    CS    5.0  4.41\n1    IT    9.0  4.81\n2    IS    3.0  3.46\n3    IT    4.0  4.72\n4    CS    9.0  4.89\n5    IT    4.0  5.00\n6   NaN    NaN   NaN",
      "text/html": "<div>\n<style scoped>\n    .dataframe tbody tr th:only-of-type {\n        vertical-align: middle;\n    }\n\n    .dataframe tbody tr th {\n        vertical-align: top;\n    }\n\n    .dataframe thead th {\n        text-align: right;\n    }\n</style>\n<table border=\"1\" class=\"dataframe\">\n  <thead>\n    <tr style=\"text-align: right;\">\n      <th></th>\n      <th>Major</th>\n      <th>Level</th>\n      <th>GPA</th>\n    </tr>\n  </thead>\n  <tbody>\n    <tr>\n      <th>0</th>\n      <td>CS</td>\n      <td>5.0</td>\n      <td>4.41</td>\n    </tr>\n    <tr>\n      <th>1</th>\n      <td>IT</td>\n      <td>9.0</td>\n      <td>4.81</td>\n    </tr>\n    <tr>\n      <th>2</th>\n      <td>IS</td>\n      <td>3.0</td>\n      <td>3.46</td>\n    </tr>\n    <tr>\n      <th>3</th>\n      <td>IT</td>\n      <td>4.0</td>\n      <td>4.72</td>\n    </tr>\n    <tr>\n      <th>4</th>\n      <td>CS</td>\n      <td>9.0</td>\n      <td>4.89</td>\n    </tr>\n    <tr>\n      <th>5</th>\n      <td>IT</td>\n      <td>4.0</td>\n      <td>5.00</td>\n    </tr>\n    <tr>\n      <th>6</th>\n      <td>NaN</td>\n      <td>NaN</td>\n      <td>NaN</td>\n    </tr>\n  </tbody>\n</table>\n</div>"
     },
     "metadata": {}
    }
   ]
  },
  {
   "metadata": {
    "trusted": true
   },
   "cell_type": "code",
   "source": "students.drop(3,axis=0, inplace=True)#(row,axis=0=x)",
   "execution_count": 14,
   "outputs": []
  },
  {
   "metadata": {
    "trusted": true
   },
   "cell_type": "code",
   "source": "students",
   "execution_count": 15,
   "outputs": [
    {
     "output_type": "execute_result",
     "execution_count": 15,
     "data": {
      "text/plain": "  Major  Level   GPA\n0    CS    5.0  4.41\n1    IT    9.0  4.81\n2    IS    3.0  3.46\n4    CS    9.0  4.89\n5    IT    4.0  5.00\n6   NaN    NaN   NaN",
      "text/html": "<div>\n<style scoped>\n    .dataframe tbody tr th:only-of-type {\n        vertical-align: middle;\n    }\n\n    .dataframe tbody tr th {\n        vertical-align: top;\n    }\n\n    .dataframe thead th {\n        text-align: right;\n    }\n</style>\n<table border=\"1\" class=\"dataframe\">\n  <thead>\n    <tr style=\"text-align: right;\">\n      <th></th>\n      <th>Major</th>\n      <th>Level</th>\n      <th>GPA</th>\n    </tr>\n  </thead>\n  <tbody>\n    <tr>\n      <th>0</th>\n      <td>CS</td>\n      <td>5.0</td>\n      <td>4.41</td>\n    </tr>\n    <tr>\n      <th>1</th>\n      <td>IT</td>\n      <td>9.0</td>\n      <td>4.81</td>\n    </tr>\n    <tr>\n      <th>2</th>\n      <td>IS</td>\n      <td>3.0</td>\n      <td>3.46</td>\n    </tr>\n    <tr>\n      <th>4</th>\n      <td>CS</td>\n      <td>9.0</td>\n      <td>4.89</td>\n    </tr>\n    <tr>\n      <th>5</th>\n      <td>IT</td>\n      <td>4.0</td>\n      <td>5.00</td>\n    </tr>\n    <tr>\n      <th>6</th>\n      <td>NaN</td>\n      <td>NaN</td>\n      <td>NaN</td>\n    </tr>\n  </tbody>\n</table>\n</div>"
     },
     "metadata": {}
    }
   ]
  },
  {
   "metadata": {
    "trusted": true
   },
   "cell_type": "code",
   "source": "#the dropna function removes the null data\nstudents.dropna(how='all',axis=0)",
   "execution_count": 16,
   "outputs": [
    {
     "output_type": "execute_result",
     "execution_count": 16,
     "data": {
      "text/plain": "  Major  Level   GPA\n0    CS    5.0  4.41\n1    IT    9.0  4.81\n2    IS    3.0  3.46\n4    CS    9.0  4.89\n5    IT    4.0  5.00",
      "text/html": "<div>\n<style scoped>\n    .dataframe tbody tr th:only-of-type {\n        vertical-align: middle;\n    }\n\n    .dataframe tbody tr th {\n        vertical-align: top;\n    }\n\n    .dataframe thead th {\n        text-align: right;\n    }\n</style>\n<table border=\"1\" class=\"dataframe\">\n  <thead>\n    <tr style=\"text-align: right;\">\n      <th></th>\n      <th>Major</th>\n      <th>Level</th>\n      <th>GPA</th>\n    </tr>\n  </thead>\n  <tbody>\n    <tr>\n      <th>0</th>\n      <td>CS</td>\n      <td>5.0</td>\n      <td>4.41</td>\n    </tr>\n    <tr>\n      <th>1</th>\n      <td>IT</td>\n      <td>9.0</td>\n      <td>4.81</td>\n    </tr>\n    <tr>\n      <th>2</th>\n      <td>IS</td>\n      <td>3.0</td>\n      <td>3.46</td>\n    </tr>\n    <tr>\n      <th>4</th>\n      <td>CS</td>\n      <td>9.0</td>\n      <td>4.89</td>\n    </tr>\n    <tr>\n      <th>5</th>\n      <td>IT</td>\n      <td>4.0</td>\n      <td>5.00</td>\n    </tr>\n  </tbody>\n</table>\n</div>"
     },
     "metadata": {}
    }
   ]
  },
  {
   "metadata": {
    "trusted": true
   },
   "cell_type": "code",
   "source": "students.dropna(how='any',axis=0)#no need for all the row to be null",
   "execution_count": 17,
   "outputs": [
    {
     "output_type": "execute_result",
     "execution_count": 17,
     "data": {
      "text/plain": "  Major  Level   GPA\n0    CS    5.0  4.41\n1    IT    9.0  4.81\n2    IS    3.0  3.46\n4    CS    9.0  4.89\n5    IT    4.0  5.00",
      "text/html": "<div>\n<style scoped>\n    .dataframe tbody tr th:only-of-type {\n        vertical-align: middle;\n    }\n\n    .dataframe tbody tr th {\n        vertical-align: top;\n    }\n\n    .dataframe thead th {\n        text-align: right;\n    }\n</style>\n<table border=\"1\" class=\"dataframe\">\n  <thead>\n    <tr style=\"text-align: right;\">\n      <th></th>\n      <th>Major</th>\n      <th>Level</th>\n      <th>GPA</th>\n    </tr>\n  </thead>\n  <tbody>\n    <tr>\n      <th>0</th>\n      <td>CS</td>\n      <td>5.0</td>\n      <td>4.41</td>\n    </tr>\n    <tr>\n      <th>1</th>\n      <td>IT</td>\n      <td>9.0</td>\n      <td>4.81</td>\n    </tr>\n    <tr>\n      <th>2</th>\n      <td>IS</td>\n      <td>3.0</td>\n      <td>3.46</td>\n    </tr>\n    <tr>\n      <th>4</th>\n      <td>CS</td>\n      <td>9.0</td>\n      <td>4.89</td>\n    </tr>\n    <tr>\n      <th>5</th>\n      <td>IT</td>\n      <td>4.0</td>\n      <td>5.00</td>\n    </tr>\n  </tbody>\n</table>\n</div>"
     },
     "metadata": {}
    }
   ]
  },
  {
   "metadata": {
    "trusted": true
   },
   "cell_type": "code",
   "source": "students.dropna(how='all',axis=1)#nothing changed",
   "execution_count": 18,
   "outputs": [
    {
     "output_type": "execute_result",
     "execution_count": 18,
     "data": {
      "text/plain": "  Major  Level   GPA\n0    CS    5.0  4.41\n1    IT    9.0  4.81\n2    IS    3.0  3.46\n4    CS    9.0  4.89\n5    IT    4.0  5.00\n6   NaN    NaN   NaN",
      "text/html": "<div>\n<style scoped>\n    .dataframe tbody tr th:only-of-type {\n        vertical-align: middle;\n    }\n\n    .dataframe tbody tr th {\n        vertical-align: top;\n    }\n\n    .dataframe thead th {\n        text-align: right;\n    }\n</style>\n<table border=\"1\" class=\"dataframe\">\n  <thead>\n    <tr style=\"text-align: right;\">\n      <th></th>\n      <th>Major</th>\n      <th>Level</th>\n      <th>GPA</th>\n    </tr>\n  </thead>\n  <tbody>\n    <tr>\n      <th>0</th>\n      <td>CS</td>\n      <td>5.0</td>\n      <td>4.41</td>\n    </tr>\n    <tr>\n      <th>1</th>\n      <td>IT</td>\n      <td>9.0</td>\n      <td>4.81</td>\n    </tr>\n    <tr>\n      <th>2</th>\n      <td>IS</td>\n      <td>3.0</td>\n      <td>3.46</td>\n    </tr>\n    <tr>\n      <th>4</th>\n      <td>CS</td>\n      <td>9.0</td>\n      <td>4.89</td>\n    </tr>\n    <tr>\n      <th>5</th>\n      <td>IT</td>\n      <td>4.0</td>\n      <td>5.00</td>\n    </tr>\n    <tr>\n      <th>6</th>\n      <td>NaN</td>\n      <td>NaN</td>\n      <td>NaN</td>\n    </tr>\n  </tbody>\n</table>\n</div>"
     },
     "metadata": {}
    }
   ]
  },
  {
   "metadata": {
    "trusted": true
   },
   "cell_type": "code",
   "source": "students.dropna(how='any',axis=1)#no need for all the row to be null",
   "execution_count": 19,
   "outputs": [
    {
     "output_type": "execute_result",
     "execution_count": 19,
     "data": {
      "text/plain": "Empty DataFrame\nColumns: []\nIndex: [0, 1, 2, 4, 5, 6]",
      "text/html": "<div>\n<style scoped>\n    .dataframe tbody tr th:only-of-type {\n        vertical-align: middle;\n    }\n\n    .dataframe tbody tr th {\n        vertical-align: top;\n    }\n\n    .dataframe thead th {\n        text-align: right;\n    }\n</style>\n<table border=\"1\" class=\"dataframe\">\n  <thead>\n    <tr style=\"text-align: right;\">\n      <th></th>\n    </tr>\n  </thead>\n  <tbody>\n    <tr>\n      <th>0</th>\n    </tr>\n    <tr>\n      <th>1</th>\n    </tr>\n    <tr>\n      <th>2</th>\n    </tr>\n    <tr>\n      <th>4</th>\n    </tr>\n    <tr>\n      <th>5</th>\n    </tr>\n    <tr>\n      <th>6</th>\n    </tr>\n  </tbody>\n</table>\n</div>"
     },
     "metadata": {}
    }
   ]
  },
  {
   "metadata": {
    "trusted": true
   },
   "cell_type": "code",
   "source": "students = pd.read_csv('students.csv')\nstudents",
   "execution_count": 20,
   "outputs": [
    {
     "output_type": "execute_result",
     "execution_count": 20,
     "data": {
      "text/plain": "      Name Major  Level   GPA\n0     Reem    CS    5.0  4.40\n1     Nada    IT    9.0  4.80\n2     Sara    IS    3.0  3.45\n3     Majd    IT    4.0  4.71\n4  Alanoud    CS    9.0  4.88\n5     Amal    IT    4.0  4.99\n6     Aziz   NaN    NaN   NaN",
      "text/html": "<div>\n<style scoped>\n    .dataframe tbody tr th:only-of-type {\n        vertical-align: middle;\n    }\n\n    .dataframe tbody tr th {\n        vertical-align: top;\n    }\n\n    .dataframe thead th {\n        text-align: right;\n    }\n</style>\n<table border=\"1\" class=\"dataframe\">\n  <thead>\n    <tr style=\"text-align: right;\">\n      <th></th>\n      <th>Name</th>\n      <th>Major</th>\n      <th>Level</th>\n      <th>GPA</th>\n    </tr>\n  </thead>\n  <tbody>\n    <tr>\n      <th>0</th>\n      <td>Reem</td>\n      <td>CS</td>\n      <td>5.0</td>\n      <td>4.40</td>\n    </tr>\n    <tr>\n      <th>1</th>\n      <td>Nada</td>\n      <td>IT</td>\n      <td>9.0</td>\n      <td>4.80</td>\n    </tr>\n    <tr>\n      <th>2</th>\n      <td>Sara</td>\n      <td>IS</td>\n      <td>3.0</td>\n      <td>3.45</td>\n    </tr>\n    <tr>\n      <th>3</th>\n      <td>Majd</td>\n      <td>IT</td>\n      <td>4.0</td>\n      <td>4.71</td>\n    </tr>\n    <tr>\n      <th>4</th>\n      <td>Alanoud</td>\n      <td>CS</td>\n      <td>9.0</td>\n      <td>4.88</td>\n    </tr>\n    <tr>\n      <th>5</th>\n      <td>Amal</td>\n      <td>IT</td>\n      <td>4.0</td>\n      <td>4.99</td>\n    </tr>\n    <tr>\n      <th>6</th>\n      <td>Aziz</td>\n      <td>NaN</td>\n      <td>NaN</td>\n      <td>NaN</td>\n    </tr>\n  </tbody>\n</table>\n</div>"
     },
     "metadata": {}
    }
   ]
  },
  {
   "metadata": {
    "trusted": true
   },
   "cell_type": "code",
   "source": "#the fillna() function\nstudents.fillna(0)#(any value you want to replace the null value)",
   "execution_count": 23,
   "outputs": [
    {
     "output_type": "execute_result",
     "execution_count": 23,
     "data": {
      "text/plain": "      Name Major  Level   GPA\n0     Reem    CS    5.0  4.40\n1     Nada    IT    9.0  4.80\n2     Sara    IS    3.0  3.45\n3     Majd    IT    4.0  4.71\n4  Alanoud    CS    9.0  4.88\n5     Amal    IT    4.0  4.99\n6     Aziz     0    0.0  0.00",
      "text/html": "<div>\n<style scoped>\n    .dataframe tbody tr th:only-of-type {\n        vertical-align: middle;\n    }\n\n    .dataframe tbody tr th {\n        vertical-align: top;\n    }\n\n    .dataframe thead th {\n        text-align: right;\n    }\n</style>\n<table border=\"1\" class=\"dataframe\">\n  <thead>\n    <tr style=\"text-align: right;\">\n      <th></th>\n      <th>Name</th>\n      <th>Major</th>\n      <th>Level</th>\n      <th>GPA</th>\n    </tr>\n  </thead>\n  <tbody>\n    <tr>\n      <th>0</th>\n      <td>Reem</td>\n      <td>CS</td>\n      <td>5.0</td>\n      <td>4.40</td>\n    </tr>\n    <tr>\n      <th>1</th>\n      <td>Nada</td>\n      <td>IT</td>\n      <td>9.0</td>\n      <td>4.80</td>\n    </tr>\n    <tr>\n      <th>2</th>\n      <td>Sara</td>\n      <td>IS</td>\n      <td>3.0</td>\n      <td>3.45</td>\n    </tr>\n    <tr>\n      <th>3</th>\n      <td>Majd</td>\n      <td>IT</td>\n      <td>4.0</td>\n      <td>4.71</td>\n    </tr>\n    <tr>\n      <th>4</th>\n      <td>Alanoud</td>\n      <td>CS</td>\n      <td>9.0</td>\n      <td>4.88</td>\n    </tr>\n    <tr>\n      <th>5</th>\n      <td>Amal</td>\n      <td>IT</td>\n      <td>4.0</td>\n      <td>4.99</td>\n    </tr>\n    <tr>\n      <th>6</th>\n      <td>Aziz</td>\n      <td>0</td>\n      <td>0.0</td>\n      <td>0.00</td>\n    </tr>\n  </tbody>\n</table>\n</div>"
     },
     "metadata": {}
    }
   ]
  },
  {
   "metadata": {
    "trusted": true
   },
   "cell_type": "code",
   "source": "#the sort_value() and sort_index Functions\nstudents.sort_values(by='GPA',ascending=False,inplace=True)#(Column, Ascending)",
   "execution_count": 26,
   "outputs": []
  },
  {
   "metadata": {
    "trusted": true
   },
   "cell_type": "code",
   "source": "students",
   "execution_count": 27,
   "outputs": [
    {
     "output_type": "execute_result",
     "execution_count": 27,
     "data": {
      "text/plain": "      Name Major  Level   GPA\n5     Amal    IT    4.0  4.99\n4  Alanoud    CS    9.0  4.88\n1     Nada    IT    9.0  4.80\n3     Majd    IT    4.0  4.71\n0     Reem    CS    5.0  4.40\n2     Sara    IS    3.0  3.45\n6     Aziz   NaN    NaN   NaN",
      "text/html": "<div>\n<style scoped>\n    .dataframe tbody tr th:only-of-type {\n        vertical-align: middle;\n    }\n\n    .dataframe tbody tr th {\n        vertical-align: top;\n    }\n\n    .dataframe thead th {\n        text-align: right;\n    }\n</style>\n<table border=\"1\" class=\"dataframe\">\n  <thead>\n    <tr style=\"text-align: right;\">\n      <th></th>\n      <th>Name</th>\n      <th>Major</th>\n      <th>Level</th>\n      <th>GPA</th>\n    </tr>\n  </thead>\n  <tbody>\n    <tr>\n      <th>5</th>\n      <td>Amal</td>\n      <td>IT</td>\n      <td>4.0</td>\n      <td>4.99</td>\n    </tr>\n    <tr>\n      <th>4</th>\n      <td>Alanoud</td>\n      <td>CS</td>\n      <td>9.0</td>\n      <td>4.88</td>\n    </tr>\n    <tr>\n      <th>1</th>\n      <td>Nada</td>\n      <td>IT</td>\n      <td>9.0</td>\n      <td>4.80</td>\n    </tr>\n    <tr>\n      <th>3</th>\n      <td>Majd</td>\n      <td>IT</td>\n      <td>4.0</td>\n      <td>4.71</td>\n    </tr>\n    <tr>\n      <th>0</th>\n      <td>Reem</td>\n      <td>CS</td>\n      <td>5.0</td>\n      <td>4.40</td>\n    </tr>\n    <tr>\n      <th>2</th>\n      <td>Sara</td>\n      <td>IS</td>\n      <td>3.0</td>\n      <td>3.45</td>\n    </tr>\n    <tr>\n      <th>6</th>\n      <td>Aziz</td>\n      <td>NaN</td>\n      <td>NaN</td>\n      <td>NaN</td>\n    </tr>\n  </tbody>\n</table>\n</div>"
     },
     "metadata": {}
    }
   ]
  },
  {
   "metadata": {
    "trusted": true
   },
   "cell_type": "code",
   "source": "students.sort_index(axis=0,ascending=True,inplace=True)\nstudents",
   "execution_count": 28,
   "outputs": [
    {
     "output_type": "execute_result",
     "execution_count": 28,
     "data": {
      "text/plain": "      Name Major  Level   GPA\n0     Reem    CS    5.0  4.40\n1     Nada    IT    9.0  4.80\n2     Sara    IS    3.0  3.45\n3     Majd    IT    4.0  4.71\n4  Alanoud    CS    9.0  4.88\n5     Amal    IT    4.0  4.99\n6     Aziz   NaN    NaN   NaN",
      "text/html": "<div>\n<style scoped>\n    .dataframe tbody tr th:only-of-type {\n        vertical-align: middle;\n    }\n\n    .dataframe tbody tr th {\n        vertical-align: top;\n    }\n\n    .dataframe thead th {\n        text-align: right;\n    }\n</style>\n<table border=\"1\" class=\"dataframe\">\n  <thead>\n    <tr style=\"text-align: right;\">\n      <th></th>\n      <th>Name</th>\n      <th>Major</th>\n      <th>Level</th>\n      <th>GPA</th>\n    </tr>\n  </thead>\n  <tbody>\n    <tr>\n      <th>0</th>\n      <td>Reem</td>\n      <td>CS</td>\n      <td>5.0</td>\n      <td>4.40</td>\n    </tr>\n    <tr>\n      <th>1</th>\n      <td>Nada</td>\n      <td>IT</td>\n      <td>9.0</td>\n      <td>4.80</td>\n    </tr>\n    <tr>\n      <th>2</th>\n      <td>Sara</td>\n      <td>IS</td>\n      <td>3.0</td>\n      <td>3.45</td>\n    </tr>\n    <tr>\n      <th>3</th>\n      <td>Majd</td>\n      <td>IT</td>\n      <td>4.0</td>\n      <td>4.71</td>\n    </tr>\n    <tr>\n      <th>4</th>\n      <td>Alanoud</td>\n      <td>CS</td>\n      <td>9.0</td>\n      <td>4.88</td>\n    </tr>\n    <tr>\n      <th>5</th>\n      <td>Amal</td>\n      <td>IT</td>\n      <td>4.0</td>\n      <td>4.99</td>\n    </tr>\n    <tr>\n      <th>6</th>\n      <td>Aziz</td>\n      <td>NaN</td>\n      <td>NaN</td>\n      <td>NaN</td>\n    </tr>\n  </tbody>\n</table>\n</div>"
     },
     "metadata": {}
    }
   ]
  },
  {
   "metadata": {
    "trusted": true
   },
   "cell_type": "code",
   "source": "#the groupby  functions\nstudents[['Major','GPA']].groupby('Major').mean()#[[Column,column]].groupby(column).aggregation function()",
   "execution_count": 31,
   "outputs": [
    {
     "output_type": "execute_result",
     "execution_count": 31,
     "data": {
      "text/plain": "            GPA\nMajor          \nCS     4.640000\nIS     3.450000\nIT     4.833333",
      "text/html": "<div>\n<style scoped>\n    .dataframe tbody tr th:only-of-type {\n        vertical-align: middle;\n    }\n\n    .dataframe tbody tr th {\n        vertical-align: top;\n    }\n\n    .dataframe thead th {\n        text-align: right;\n    }\n</style>\n<table border=\"1\" class=\"dataframe\">\n  <thead>\n    <tr style=\"text-align: right;\">\n      <th></th>\n      <th>GPA</th>\n    </tr>\n    <tr>\n      <th>Major</th>\n      <th></th>\n    </tr>\n  </thead>\n  <tbody>\n    <tr>\n      <th>CS</th>\n      <td>4.640000</td>\n    </tr>\n    <tr>\n      <th>IS</th>\n      <td>3.450000</td>\n    </tr>\n    <tr>\n      <th>IT</th>\n      <td>4.833333</td>\n    </tr>\n  </tbody>\n</table>\n</div>"
     },
     "metadata": {}
    }
   ]
  },
  {
   "metadata": {
    "trusted": true
   },
   "cell_type": "code",
   "source": "",
   "execution_count": null,
   "outputs": []
  }
 ],
 "metadata": {
  "kernelspec": {
   "name": "python3",
   "display_name": "Python 3",
   "language": "python"
  },
  "language_info": {
   "name": "python",
   "version": "3.10.4",
   "mimetype": "text/x-python",
   "codemirror_mode": {
    "name": "ipython",
    "version": 3
   },
   "pygments_lexer": "ipython3",
   "nbconvert_exporter": "python",
   "file_extension": ".py"
  }
 },
 "nbformat": 4,
 "nbformat_minor": 2
}