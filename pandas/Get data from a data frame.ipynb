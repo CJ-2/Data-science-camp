{
 "cells": [
  {
   "metadata": {
    "trusted": true
   },
   "cell_type": "code",
   "source": "import pandas as pd",
   "execution_count": 1,
   "outputs": []
  },
  {
   "metadata": {
    "trusted": true
   },
   "cell_type": "code",
   "source": "students = pd.read_csv('students.csv')\nstudents",
   "execution_count": 2,
   "outputs": [
    {
     "output_type": "execute_result",
     "execution_count": 2,
     "data": {
      "text/plain": "      Name Major  Level   GPA\n0     Reem    CS      5  4.40\n1     Nada    IT      9  4.80\n2     Sara    IS      3  3.45\n3     Majd    IT      4  4.71\n4  Alanoud    CS      9  4.88\n5     Amal    IT      4  4.99",
      "text/html": "<div>\n<style scoped>\n    .dataframe tbody tr th:only-of-type {\n        vertical-align: middle;\n    }\n\n    .dataframe tbody tr th {\n        vertical-align: top;\n    }\n\n    .dataframe thead th {\n        text-align: right;\n    }\n</style>\n<table border=\"1\" class=\"dataframe\">\n  <thead>\n    <tr style=\"text-align: right;\">\n      <th></th>\n      <th>Name</th>\n      <th>Major</th>\n      <th>Level</th>\n      <th>GPA</th>\n    </tr>\n  </thead>\n  <tbody>\n    <tr>\n      <th>0</th>\n      <td>Reem</td>\n      <td>CS</td>\n      <td>5</td>\n      <td>4.40</td>\n    </tr>\n    <tr>\n      <th>1</th>\n      <td>Nada</td>\n      <td>IT</td>\n      <td>9</td>\n      <td>4.80</td>\n    </tr>\n    <tr>\n      <th>2</th>\n      <td>Sara</td>\n      <td>IS</td>\n      <td>3</td>\n      <td>3.45</td>\n    </tr>\n    <tr>\n      <th>3</th>\n      <td>Majd</td>\n      <td>IT</td>\n      <td>4</td>\n      <td>4.71</td>\n    </tr>\n    <tr>\n      <th>4</th>\n      <td>Alanoud</td>\n      <td>CS</td>\n      <td>9</td>\n      <td>4.88</td>\n    </tr>\n    <tr>\n      <th>5</th>\n      <td>Amal</td>\n      <td>IT</td>\n      <td>4</td>\n      <td>4.99</td>\n    </tr>\n  </tbody>\n</table>\n</div>"
     },
     "metadata": {}
    }
   ]
  },
  {
   "metadata": {
    "trusted": true
   },
   "cell_type": "code",
   "source": "students['Name']#[column]",
   "execution_count": 4,
   "outputs": [
    {
     "output_type": "execute_result",
     "execution_count": 4,
     "data": {
      "text/plain": "0       Reem\n1       Nada\n2       Sara\n3       Majd\n4    Alanoud\n5       Amal\nName: Name, dtype: object"
     },
     "metadata": {}
    }
   ]
  },
  {
   "metadata": {
    "trusted": true
   },
   "cell_type": "code",
   "source": "students[['Name','Major']]#[column,column,or more]",
   "execution_count": 5,
   "outputs": [
    {
     "output_type": "execute_result",
     "execution_count": 5,
     "data": {
      "text/plain": "      Name Major\n0     Reem    CS\n1     Nada    IT\n2     Sara    IS\n3     Majd    IT\n4  Alanoud    CS\n5     Amal    IT",
      "text/html": "<div>\n<style scoped>\n    .dataframe tbody tr th:only-of-type {\n        vertical-align: middle;\n    }\n\n    .dataframe tbody tr th {\n        vertical-align: top;\n    }\n\n    .dataframe thead th {\n        text-align: right;\n    }\n</style>\n<table border=\"1\" class=\"dataframe\">\n  <thead>\n    <tr style=\"text-align: right;\">\n      <th></th>\n      <th>Name</th>\n      <th>Major</th>\n    </tr>\n  </thead>\n  <tbody>\n    <tr>\n      <th>0</th>\n      <td>Reem</td>\n      <td>CS</td>\n    </tr>\n    <tr>\n      <th>1</th>\n      <td>Nada</td>\n      <td>IT</td>\n    </tr>\n    <tr>\n      <th>2</th>\n      <td>Sara</td>\n      <td>IS</td>\n    </tr>\n    <tr>\n      <th>3</th>\n      <td>Majd</td>\n      <td>IT</td>\n    </tr>\n    <tr>\n      <th>4</th>\n      <td>Alanoud</td>\n      <td>CS</td>\n    </tr>\n    <tr>\n      <th>5</th>\n      <td>Amal</td>\n      <td>IT</td>\n    </tr>\n  </tbody>\n</table>\n</div>"
     },
     "metadata": {}
    }
   ]
  },
  {
   "metadata": {
    "trusted": true
   },
   "cell_type": "code",
   "source": "students[2:5]#[start:end]",
   "execution_count": 7,
   "outputs": [
    {
     "output_type": "execute_result",
     "execution_count": 7,
     "data": {
      "text/plain": "      Name Major  Level   GPA\n2     Sara    IS      3  3.45\n3     Majd    IT      4  4.71\n4  Alanoud    CS      9  4.88",
      "text/html": "<div>\n<style scoped>\n    .dataframe tbody tr th:only-of-type {\n        vertical-align: middle;\n    }\n\n    .dataframe tbody tr th {\n        vertical-align: top;\n    }\n\n    .dataframe thead th {\n        text-align: right;\n    }\n</style>\n<table border=\"1\" class=\"dataframe\">\n  <thead>\n    <tr style=\"text-align: right;\">\n      <th></th>\n      <th>Name</th>\n      <th>Major</th>\n      <th>Level</th>\n      <th>GPA</th>\n    </tr>\n  </thead>\n  <tbody>\n    <tr>\n      <th>2</th>\n      <td>Sara</td>\n      <td>IS</td>\n      <td>3</td>\n      <td>3.45</td>\n    </tr>\n    <tr>\n      <th>3</th>\n      <td>Majd</td>\n      <td>IT</td>\n      <td>4</td>\n      <td>4.71</td>\n    </tr>\n    <tr>\n      <th>4</th>\n      <td>Alanoud</td>\n      <td>CS</td>\n      <td>9</td>\n      <td>4.88</td>\n    </tr>\n  </tbody>\n</table>\n</div>"
     },
     "metadata": {}
    }
   ]
  },
  {
   "metadata": {
    "trusted": true
   },
   "cell_type": "code",
   "source": "# the loc[] function\nstudents.loc[2:4,['Name','Major']]#[start:end, [column,column,...]]",
   "execution_count": 9,
   "outputs": [
    {
     "output_type": "execute_result",
     "execution_count": 9,
     "data": {
      "text/plain": "      Name Major\n2     Sara    IS\n3     Majd    IT\n4  Alanoud    CS",
      "text/html": "<div>\n<style scoped>\n    .dataframe tbody tr th:only-of-type {\n        vertical-align: middle;\n    }\n\n    .dataframe tbody tr th {\n        vertical-align: top;\n    }\n\n    .dataframe thead th {\n        text-align: right;\n    }\n</style>\n<table border=\"1\" class=\"dataframe\">\n  <thead>\n    <tr style=\"text-align: right;\">\n      <th></th>\n      <th>Name</th>\n      <th>Major</th>\n    </tr>\n  </thead>\n  <tbody>\n    <tr>\n      <th>2</th>\n      <td>Sara</td>\n      <td>IS</td>\n    </tr>\n    <tr>\n      <th>3</th>\n      <td>Majd</td>\n      <td>IT</td>\n    </tr>\n    <tr>\n      <th>4</th>\n      <td>Alanoud</td>\n      <td>CS</td>\n    </tr>\n  </tbody>\n</table>\n</div>"
     },
     "metadata": {}
    }
   ]
  },
  {
   "metadata": {
    "trusted": true
   },
   "cell_type": "code",
   "source": "#the sample() Function returns a Random data\nstudents.sample()",
   "execution_count": 10,
   "outputs": [
    {
     "output_type": "execute_result",
     "execution_count": 10,
     "data": {
      "text/plain": "   Name Major  Level   GPA\n3  Majd    IT      4  4.71",
      "text/html": "<div>\n<style scoped>\n    .dataframe tbody tr th:only-of-type {\n        vertical-align: middle;\n    }\n\n    .dataframe tbody tr th {\n        vertical-align: top;\n    }\n\n    .dataframe thead th {\n        text-align: right;\n    }\n</style>\n<table border=\"1\" class=\"dataframe\">\n  <thead>\n    <tr style=\"text-align: right;\">\n      <th></th>\n      <th>Name</th>\n      <th>Major</th>\n      <th>Level</th>\n      <th>GPA</th>\n    </tr>\n  </thead>\n  <tbody>\n    <tr>\n      <th>3</th>\n      <td>Majd</td>\n      <td>IT</td>\n      <td>4</td>\n      <td>4.71</td>\n    </tr>\n  </tbody>\n</table>\n</div>"
     },
     "metadata": {}
    }
   ]
  },
  {
   "metadata": {
    "trusted": true
   },
   "cell_type": "code",
   "source": "students.sample()",
   "execution_count": 11,
   "outputs": [
    {
     "output_type": "execute_result",
     "execution_count": 11,
     "data": {
      "text/plain": "   Name Major  Level  GPA\n0  Reem    CS      5  4.4",
      "text/html": "<div>\n<style scoped>\n    .dataframe tbody tr th:only-of-type {\n        vertical-align: middle;\n    }\n\n    .dataframe tbody tr th {\n        vertical-align: top;\n    }\n\n    .dataframe thead th {\n        text-align: right;\n    }\n</style>\n<table border=\"1\" class=\"dataframe\">\n  <thead>\n    <tr style=\"text-align: right;\">\n      <th></th>\n      <th>Name</th>\n      <th>Major</th>\n      <th>Level</th>\n      <th>GPA</th>\n    </tr>\n  </thead>\n  <tbody>\n    <tr>\n      <th>0</th>\n      <td>Reem</td>\n      <td>CS</td>\n      <td>5</td>\n      <td>4.4</td>\n    </tr>\n  </tbody>\n</table>\n</div>"
     },
     "metadata": {}
    }
   ]
  },
  {
   "metadata": {
    "trusted": true
   },
   "cell_type": "code",
   "source": "students.sample(3)#number of data",
   "execution_count": 12,
   "outputs": [
    {
     "output_type": "execute_result",
     "execution_count": 12,
     "data": {
      "text/plain": "   Name Major  Level   GPA\n1  Nada    IT      9  4.80\n0  Reem    CS      5  4.40\n5  Amal    IT      4  4.99",
      "text/html": "<div>\n<style scoped>\n    .dataframe tbody tr th:only-of-type {\n        vertical-align: middle;\n    }\n\n    .dataframe tbody tr th {\n        vertical-align: top;\n    }\n\n    .dataframe thead th {\n        text-align: right;\n    }\n</style>\n<table border=\"1\" class=\"dataframe\">\n  <thead>\n    <tr style=\"text-align: right;\">\n      <th></th>\n      <th>Name</th>\n      <th>Major</th>\n      <th>Level</th>\n      <th>GPA</th>\n    </tr>\n  </thead>\n  <tbody>\n    <tr>\n      <th>1</th>\n      <td>Nada</td>\n      <td>IT</td>\n      <td>9</td>\n      <td>4.80</td>\n    </tr>\n    <tr>\n      <th>0</th>\n      <td>Reem</td>\n      <td>CS</td>\n      <td>5</td>\n      <td>4.40</td>\n    </tr>\n    <tr>\n      <th>5</th>\n      <td>Amal</td>\n      <td>IT</td>\n      <td>4</td>\n      <td>4.99</td>\n    </tr>\n  </tbody>\n</table>\n</div>"
     },
     "metadata": {}
    }
   ]
  },
  {
   "metadata": {
    "trusted": true
   },
   "cell_type": "code",
   "source": "students.sample(3, random_state=23)",
   "execution_count": 13,
   "outputs": [
    {
     "output_type": "execute_result",
     "execution_count": 13,
     "data": {
      "text/plain": "      Name Major  Level   GPA\n5     Amal    IT      4  4.99\n4  Alanoud    CS      9  4.88\n2     Sara    IS      3  3.45",
      "text/html": "<div>\n<style scoped>\n    .dataframe tbody tr th:only-of-type {\n        vertical-align: middle;\n    }\n\n    .dataframe tbody tr th {\n        vertical-align: top;\n    }\n\n    .dataframe thead th {\n        text-align: right;\n    }\n</style>\n<table border=\"1\" class=\"dataframe\">\n  <thead>\n    <tr style=\"text-align: right;\">\n      <th></th>\n      <th>Name</th>\n      <th>Major</th>\n      <th>Level</th>\n      <th>GPA</th>\n    </tr>\n  </thead>\n  <tbody>\n    <tr>\n      <th>5</th>\n      <td>Amal</td>\n      <td>IT</td>\n      <td>4</td>\n      <td>4.99</td>\n    </tr>\n    <tr>\n      <th>4</th>\n      <td>Alanoud</td>\n      <td>CS</td>\n      <td>9</td>\n      <td>4.88</td>\n    </tr>\n    <tr>\n      <th>2</th>\n      <td>Sara</td>\n      <td>IS</td>\n      <td>3</td>\n      <td>3.45</td>\n    </tr>\n  </tbody>\n</table>\n</div>"
     },
     "metadata": {}
    }
   ]
  },
  {
   "metadata": {
    "trusted": true
   },
   "cell_type": "code",
   "source": "students.sample(3, random_state=23)#the same data",
   "execution_count": 14,
   "outputs": [
    {
     "output_type": "execute_result",
     "execution_count": 14,
     "data": {
      "text/plain": "      Name Major  Level   GPA\n5     Amal    IT      4  4.99\n4  Alanoud    CS      9  4.88\n2     Sara    IS      3  3.45",
      "text/html": "<div>\n<style scoped>\n    .dataframe tbody tr th:only-of-type {\n        vertical-align: middle;\n    }\n\n    .dataframe tbody tr th {\n        vertical-align: top;\n    }\n\n    .dataframe thead th {\n        text-align: right;\n    }\n</style>\n<table border=\"1\" class=\"dataframe\">\n  <thead>\n    <tr style=\"text-align: right;\">\n      <th></th>\n      <th>Name</th>\n      <th>Major</th>\n      <th>Level</th>\n      <th>GPA</th>\n    </tr>\n  </thead>\n  <tbody>\n    <tr>\n      <th>5</th>\n      <td>Amal</td>\n      <td>IT</td>\n      <td>4</td>\n      <td>4.99</td>\n    </tr>\n    <tr>\n      <th>4</th>\n      <td>Alanoud</td>\n      <td>CS</td>\n      <td>9</td>\n      <td>4.88</td>\n    </tr>\n    <tr>\n      <th>2</th>\n      <td>Sara</td>\n      <td>IS</td>\n      <td>3</td>\n      <td>3.45</td>\n    </tr>\n  </tbody>\n</table>\n</div>"
     },
     "metadata": {}
    }
   ]
  },
  {
   "metadata": {
    "trusted": true
   },
   "cell_type": "code",
   "source": "#conditions\ncoundition = students['GPA'] > 4\ncoundition",
   "execution_count": 16,
   "outputs": [
    {
     "output_type": "execute_result",
     "execution_count": 16,
     "data": {
      "text/plain": "0     True\n1     True\n2    False\n3     True\n4     True\n5     True\nName: GPA, dtype: bool"
     },
     "metadata": {}
    }
   ]
  },
  {
   "metadata": {
    "trusted": true
   },
   "cell_type": "code",
   "source": "students[coundition]",
   "execution_count": 17,
   "outputs": [
    {
     "output_type": "execute_result",
     "execution_count": 17,
     "data": {
      "text/plain": "      Name Major  Level   GPA\n0     Reem    CS      5  4.40\n1     Nada    IT      9  4.80\n3     Majd    IT      4  4.71\n4  Alanoud    CS      9  4.88\n5     Amal    IT      4  4.99",
      "text/html": "<div>\n<style scoped>\n    .dataframe tbody tr th:only-of-type {\n        vertical-align: middle;\n    }\n\n    .dataframe tbody tr th {\n        vertical-align: top;\n    }\n\n    .dataframe thead th {\n        text-align: right;\n    }\n</style>\n<table border=\"1\" class=\"dataframe\">\n  <thead>\n    <tr style=\"text-align: right;\">\n      <th></th>\n      <th>Name</th>\n      <th>Major</th>\n      <th>Level</th>\n      <th>GPA</th>\n    </tr>\n  </thead>\n  <tbody>\n    <tr>\n      <th>0</th>\n      <td>Reem</td>\n      <td>CS</td>\n      <td>5</td>\n      <td>4.40</td>\n    </tr>\n    <tr>\n      <th>1</th>\n      <td>Nada</td>\n      <td>IT</td>\n      <td>9</td>\n      <td>4.80</td>\n    </tr>\n    <tr>\n      <th>3</th>\n      <td>Majd</td>\n      <td>IT</td>\n      <td>4</td>\n      <td>4.71</td>\n    </tr>\n    <tr>\n      <th>4</th>\n      <td>Alanoud</td>\n      <td>CS</td>\n      <td>9</td>\n      <td>4.88</td>\n    </tr>\n    <tr>\n      <th>5</th>\n      <td>Amal</td>\n      <td>IT</td>\n      <td>4</td>\n      <td>4.99</td>\n    </tr>\n  </tbody>\n</table>\n</div>"
     },
     "metadata": {}
    }
   ]
  },
  {
   "metadata": {
    "trusted": true
   },
   "cell_type": "code",
   "source": "coundition = students['GPA'] > 4.7\nstudents[coundition]",
   "execution_count": 18,
   "outputs": [
    {
     "output_type": "execute_result",
     "execution_count": 18,
     "data": {
      "text/plain": "      Name Major  Level   GPA\n1     Nada    IT      9  4.80\n3     Majd    IT      4  4.71\n4  Alanoud    CS      9  4.88\n5     Amal    IT      4  4.99",
      "text/html": "<div>\n<style scoped>\n    .dataframe tbody tr th:only-of-type {\n        vertical-align: middle;\n    }\n\n    .dataframe tbody tr th {\n        vertical-align: top;\n    }\n\n    .dataframe thead th {\n        text-align: right;\n    }\n</style>\n<table border=\"1\" class=\"dataframe\">\n  <thead>\n    <tr style=\"text-align: right;\">\n      <th></th>\n      <th>Name</th>\n      <th>Major</th>\n      <th>Level</th>\n      <th>GPA</th>\n    </tr>\n  </thead>\n  <tbody>\n    <tr>\n      <th>1</th>\n      <td>Nada</td>\n      <td>IT</td>\n      <td>9</td>\n      <td>4.80</td>\n    </tr>\n    <tr>\n      <th>3</th>\n      <td>Majd</td>\n      <td>IT</td>\n      <td>4</td>\n      <td>4.71</td>\n    </tr>\n    <tr>\n      <th>4</th>\n      <td>Alanoud</td>\n      <td>CS</td>\n      <td>9</td>\n      <td>4.88</td>\n    </tr>\n    <tr>\n      <th>5</th>\n      <td>Amal</td>\n      <td>IT</td>\n      <td>4</td>\n      <td>4.99</td>\n    </tr>\n  </tbody>\n</table>\n</div>"
     },
     "metadata": {}
    }
   ]
  },
  {
   "metadata": {
    "trusted": true
   },
   "cell_type": "code",
   "source": "#null values\nstudents.isnull()",
   "execution_count": 19,
   "outputs": [
    {
     "output_type": "execute_result",
     "execution_count": 19,
     "data": {
      "text/plain": "    Name  Major  Level    GPA\n0  False  False  False  False\n1  False  False  False  False\n2  False  False  False  False\n3  False  False  False  False\n4  False  False  False  False\n5  False  False  False  False",
      "text/html": "<div>\n<style scoped>\n    .dataframe tbody tr th:only-of-type {\n        vertical-align: middle;\n    }\n\n    .dataframe tbody tr th {\n        vertical-align: top;\n    }\n\n    .dataframe thead th {\n        text-align: right;\n    }\n</style>\n<table border=\"1\" class=\"dataframe\">\n  <thead>\n    <tr style=\"text-align: right;\">\n      <th></th>\n      <th>Name</th>\n      <th>Major</th>\n      <th>Level</th>\n      <th>GPA</th>\n    </tr>\n  </thead>\n  <tbody>\n    <tr>\n      <th>0</th>\n      <td>False</td>\n      <td>False</td>\n      <td>False</td>\n      <td>False</td>\n    </tr>\n    <tr>\n      <th>1</th>\n      <td>False</td>\n      <td>False</td>\n      <td>False</td>\n      <td>False</td>\n    </tr>\n    <tr>\n      <th>2</th>\n      <td>False</td>\n      <td>False</td>\n      <td>False</td>\n      <td>False</td>\n    </tr>\n    <tr>\n      <th>3</th>\n      <td>False</td>\n      <td>False</td>\n      <td>False</td>\n      <td>False</td>\n    </tr>\n    <tr>\n      <th>4</th>\n      <td>False</td>\n      <td>False</td>\n      <td>False</td>\n      <td>False</td>\n    </tr>\n    <tr>\n      <th>5</th>\n      <td>False</td>\n      <td>False</td>\n      <td>False</td>\n      <td>False</td>\n    </tr>\n  </tbody>\n</table>\n</div>"
     },
     "metadata": {}
    }
   ]
  },
  {
   "metadata": {
    "trusted": true
   },
   "cell_type": "code",
   "source": "",
   "execution_count": null,
   "outputs": []
  }
 ],
 "metadata": {
  "kernelspec": {
   "name": "python3",
   "display_name": "Python 3",
   "language": "python"
  },
  "language_info": {
   "name": "python",
   "version": "3.10.4",
   "mimetype": "text/x-python",
   "codemirror_mode": {
    "name": "ipython",
    "version": 3
   },
   "pygments_lexer": "ipython3",
   "nbconvert_exporter": "python",
   "file_extension": ".py"
  }
 },
 "nbformat": 4,
 "nbformat_minor": 2
}